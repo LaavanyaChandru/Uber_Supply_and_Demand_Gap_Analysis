{
 "cells": [
  {
   "cell_type": "markdown",
   "metadata": {},
   "source": [
    "# Uber Data Analysis\n",
    "This analysis identifies the root cause of the problem (i.e. cancellation and\n",
    "non-availability of cars) and recommend ways to improve the situation. As a result of this\n",
    "analysis, I present to the client the root cause(s) and possible hypotheses\n",
    "of the problem(s) and recommend ways to improve them."
   ]
  },
  {
   "cell_type": "code",
   "execution_count": 1,
   "metadata": {},
   "outputs": [
    {
     "data": {
      "text/html": [
       "<div>\n",
       "<style scoped>\n",
       "    .dataframe tbody tr th:only-of-type {\n",
       "        vertical-align: middle;\n",
       "    }\n",
       "\n",
       "    .dataframe tbody tr th {\n",
       "        vertical-align: top;\n",
       "    }\n",
       "\n",
       "    .dataframe thead th {\n",
       "        text-align: right;\n",
       "    }\n",
       "</style>\n",
       "<table border=\"1\" class=\"dataframe\">\n",
       "  <thead>\n",
       "    <tr style=\"text-align: right;\">\n",
       "      <th></th>\n",
       "      <th>Request id</th>\n",
       "      <th>Pickup point</th>\n",
       "      <th>Driver id</th>\n",
       "      <th>Status</th>\n",
       "      <th>Request timestamp</th>\n",
       "      <th>Drop timestamp</th>\n",
       "    </tr>\n",
       "  </thead>\n",
       "  <tbody>\n",
       "    <tr>\n",
       "      <th>0</th>\n",
       "      <td>619</td>\n",
       "      <td>Airport</td>\n",
       "      <td>1.0</td>\n",
       "      <td>Trip Completed</td>\n",
       "      <td>11/7/2016 11:51</td>\n",
       "      <td>11/7/2016 13:00</td>\n",
       "    </tr>\n",
       "    <tr>\n",
       "      <th>1</th>\n",
       "      <td>867</td>\n",
       "      <td>Airport</td>\n",
       "      <td>1.0</td>\n",
       "      <td>Trip Completed</td>\n",
       "      <td>11/7/2016 17:57</td>\n",
       "      <td>11/7/2016 18:47</td>\n",
       "    </tr>\n",
       "    <tr>\n",
       "      <th>2</th>\n",
       "      <td>1807</td>\n",
       "      <td>City</td>\n",
       "      <td>1.0</td>\n",
       "      <td>Trip Completed</td>\n",
       "      <td>12/7/2016 9:17</td>\n",
       "      <td>12/7/2016 9:58</td>\n",
       "    </tr>\n",
       "    <tr>\n",
       "      <th>3</th>\n",
       "      <td>2532</td>\n",
       "      <td>Airport</td>\n",
       "      <td>1.0</td>\n",
       "      <td>Trip Completed</td>\n",
       "      <td>12/7/2016 21:08</td>\n",
       "      <td>12/7/2016 22:03</td>\n",
       "    </tr>\n",
       "    <tr>\n",
       "      <th>4</th>\n",
       "      <td>3112</td>\n",
       "      <td>City</td>\n",
       "      <td>1.0</td>\n",
       "      <td>Trip Completed</td>\n",
       "      <td>13-07-2016 08:33:16</td>\n",
       "      <td>13-07-2016 09:25:47</td>\n",
       "    </tr>\n",
       "    <tr>\n",
       "      <th>...</th>\n",
       "      <td>...</td>\n",
       "      <td>...</td>\n",
       "      <td>...</td>\n",
       "      <td>...</td>\n",
       "      <td>...</td>\n",
       "      <td>...</td>\n",
       "    </tr>\n",
       "    <tr>\n",
       "      <th>6740</th>\n",
       "      <td>6745</td>\n",
       "      <td>City</td>\n",
       "      <td>NaN</td>\n",
       "      <td>No Cars Available</td>\n",
       "      <td>15-07-2016 23:49:03</td>\n",
       "      <td>NaN</td>\n",
       "    </tr>\n",
       "    <tr>\n",
       "      <th>6741</th>\n",
       "      <td>6752</td>\n",
       "      <td>Airport</td>\n",
       "      <td>NaN</td>\n",
       "      <td>No Cars Available</td>\n",
       "      <td>15-07-2016 23:50:05</td>\n",
       "      <td>NaN</td>\n",
       "    </tr>\n",
       "    <tr>\n",
       "      <th>6742</th>\n",
       "      <td>6751</td>\n",
       "      <td>City</td>\n",
       "      <td>NaN</td>\n",
       "      <td>No Cars Available</td>\n",
       "      <td>15-07-2016 23:52:06</td>\n",
       "      <td>NaN</td>\n",
       "    </tr>\n",
       "    <tr>\n",
       "      <th>6743</th>\n",
       "      <td>6754</td>\n",
       "      <td>City</td>\n",
       "      <td>NaN</td>\n",
       "      <td>No Cars Available</td>\n",
       "      <td>15-07-2016 23:54:39</td>\n",
       "      <td>NaN</td>\n",
       "    </tr>\n",
       "    <tr>\n",
       "      <th>6744</th>\n",
       "      <td>6753</td>\n",
       "      <td>Airport</td>\n",
       "      <td>NaN</td>\n",
       "      <td>No Cars Available</td>\n",
       "      <td>15-07-2016 23:55:03</td>\n",
       "      <td>NaN</td>\n",
       "    </tr>\n",
       "  </tbody>\n",
       "</table>\n",
       "<p>6745 rows × 6 columns</p>\n",
       "</div>"
      ],
      "text/plain": [
       "      Request id Pickup point  Driver id             Status  \\\n",
       "0            619      Airport        1.0     Trip Completed   \n",
       "1            867      Airport        1.0     Trip Completed   \n",
       "2           1807         City        1.0     Trip Completed   \n",
       "3           2532      Airport        1.0     Trip Completed   \n",
       "4           3112         City        1.0     Trip Completed   \n",
       "...          ...          ...        ...                ...   \n",
       "6740        6745         City        NaN  No Cars Available   \n",
       "6741        6752      Airport        NaN  No Cars Available   \n",
       "6742        6751         City        NaN  No Cars Available   \n",
       "6743        6754         City        NaN  No Cars Available   \n",
       "6744        6753      Airport        NaN  No Cars Available   \n",
       "\n",
       "        Request timestamp       Drop timestamp  \n",
       "0         11/7/2016 11:51      11/7/2016 13:00  \n",
       "1         11/7/2016 17:57      11/7/2016 18:47  \n",
       "2          12/7/2016 9:17       12/7/2016 9:58  \n",
       "3         12/7/2016 21:08      12/7/2016 22:03  \n",
       "4     13-07-2016 08:33:16  13-07-2016 09:25:47  \n",
       "...                   ...                  ...  \n",
       "6740  15-07-2016 23:49:03                  NaN  \n",
       "6741  15-07-2016 23:50:05                  NaN  \n",
       "6742  15-07-2016 23:52:06                  NaN  \n",
       "6743  15-07-2016 23:54:39                  NaN  \n",
       "6744  15-07-2016 23:55:03                  NaN  \n",
       "\n",
       "[6745 rows x 6 columns]"
      ]
     },
     "execution_count": 1,
     "metadata": {},
     "output_type": "execute_result"
    }
   ],
   "source": [
    "import numpy as np\n",
    "import pandas as pd\n",
    "import seaborn as sns\n",
    "import matplotlib.pyplot as plt\n",
    "\n",
    "uber_data=pd.read_csv(\"Uber Request Data.csv\")  #exporting data\n",
    "uber_data"
   ]
  },
  {
   "cell_type": "code",
   "execution_count": 28,
   "metadata": {},
   "outputs": [
    {
     "name": "stdout",
     "output_type": "stream",
     "text": [
      "No Duplicates\n"
     ]
    }
   ],
   "source": [
    "#cleaning the data\n",
    "# to check duplicate data and eliminate \n",
    "\n",
    "if (len(uber_data[\"Request id\"].unique()) == uber_data.shape[0]):\n",
    "    print('No Duplicates')\n",
    "else:\n",
    "    print((uber_data.shape[0])-(len(uber_data[\"Request id\"].unique())), \"Duplicates\")\n",
    "    uber_data.drop_duplicates()"
   ]
  },
  {
   "cell_type": "code",
   "execution_count": 3,
   "metadata": {},
   "outputs": [
    {
     "data": {
      "text/plain": [
       "Request id              0\n",
       "Pickup point            0\n",
       "Driver id            2650\n",
       "Status                  0\n",
       "Request timestamp       0\n",
       "Drop timestamp       3914\n",
       "dtype: int64"
      ]
     },
     "execution_count": 3,
     "metadata": {},
     "output_type": "execute_result"
    }
   ],
   "source": [
    "#to check number of null values present in each column of the data\n",
    "\n",
    "uber_data.isnull().sum()"
   ]
  },
  {
   "cell_type": "code",
   "execution_count": 4,
   "metadata": {},
   "outputs": [
    {
     "name": "stdout",
     "output_type": "stream",
     "text": [
      "<class 'pandas.core.frame.DataFrame'>\n",
      "RangeIndex: 6745 entries, 0 to 6744\n",
      "Data columns (total 6 columns):\n",
      " #   Column             Non-Null Count  Dtype  \n",
      "---  ------             --------------  -----  \n",
      " 0   Request id         6745 non-null   int64  \n",
      " 1   Pickup point       6745 non-null   object \n",
      " 2   Driver id          4095 non-null   float64\n",
      " 3   Status             6745 non-null   object \n",
      " 4   Request timestamp  6745 non-null   object \n",
      " 5   Drop timestamp     2831 non-null   object \n",
      "dtypes: float64(1), int64(1), object(4)\n",
      "memory usage: 210.8+ KB\n"
     ]
    }
   ],
   "source": [
    "#identify data type and covert it to appropriate data type\n",
    "\n",
    "uber_data.info()"
   ]
  },
  {
   "cell_type": "code",
   "execution_count": 5,
   "metadata": {},
   "outputs": [
    {
     "name": "stdout",
     "output_type": "stream",
     "text": [
      "<class 'pandas.core.frame.DataFrame'>\n",
      "RangeIndex: 6745 entries, 0 to 6744\n",
      "Data columns (total 6 columns):\n",
      " #   Column             Non-Null Count  Dtype         \n",
      "---  ------             --------------  -----         \n",
      " 0   Request id         6745 non-null   int64         \n",
      " 1   Pickup point       6745 non-null   object        \n",
      " 2   Driver id          4095 non-null   float64       \n",
      " 3   Status             6745 non-null   object        \n",
      " 4   Request timestamp  6745 non-null   datetime64[ns]\n",
      " 5   Drop timestamp     2831 non-null   datetime64[ns]\n",
      "dtypes: datetime64[ns](2), float64(1), int64(1), object(2)\n",
      "memory usage: 263.5+ KB\n"
     ]
    }
   ],
   "source": [
    "# \"Request timestamp\"and \"Drop timestamp\" are not in datetime data type\n",
    "# to convert \"Request timestamp\"and \"Drop timestamp\" columns to datetime datatype\n",
    "\n",
    "uber_data[\"Request timestamp\"]=uber_data[\"Request timestamp\"].astype(str).replace(\"/\",\"-\")        \n",
    "uber_data[\"Request timestamp\"]=pd.to_datetime(uber_data[\"Request timestamp\"], dayfirst=True)\n",
    "\n",
    "uber_data[\"Drop timestamp\"]=uber_data[\"Drop timestamp\"].astype(str).replace(\"/\",\"-\")        \n",
    "uber_data[\"Drop timestamp\"]=pd.to_datetime(uber_data[\"Drop timestamp\"], dayfirst=True)\n",
    "\n",
    "uber_data.info()"
   ]
  },
  {
   "cell_type": "code",
   "execution_count": 6,
   "metadata": {},
   "outputs": [
    {
     "data": {
      "text/html": [
       "<div>\n",
       "<style scoped>\n",
       "    .dataframe tbody tr th:only-of-type {\n",
       "        vertical-align: middle;\n",
       "    }\n",
       "\n",
       "    .dataframe tbody tr th {\n",
       "        vertical-align: top;\n",
       "    }\n",
       "\n",
       "    .dataframe thead th {\n",
       "        text-align: right;\n",
       "    }\n",
       "</style>\n",
       "<table border=\"1\" class=\"dataframe\">\n",
       "  <thead>\n",
       "    <tr style=\"text-align: right;\">\n",
       "      <th></th>\n",
       "      <th>Request id</th>\n",
       "      <th>Pickup point</th>\n",
       "      <th>Driver id</th>\n",
       "      <th>Status</th>\n",
       "      <th>Request timestamp</th>\n",
       "      <th>Drop timestamp</th>\n",
       "      <th>request_hr</th>\n",
       "      <th>request_day</th>\n",
       "    </tr>\n",
       "  </thead>\n",
       "  <tbody>\n",
       "    <tr>\n",
       "      <th>0</th>\n",
       "      <td>619</td>\n",
       "      <td>Airport</td>\n",
       "      <td>1.0</td>\n",
       "      <td>Trip Completed</td>\n",
       "      <td>2016-07-11 11:51:00</td>\n",
       "      <td>2016-07-11 13:00:00</td>\n",
       "      <td>11</td>\n",
       "      <td>11</td>\n",
       "    </tr>\n",
       "    <tr>\n",
       "      <th>1</th>\n",
       "      <td>867</td>\n",
       "      <td>Airport</td>\n",
       "      <td>1.0</td>\n",
       "      <td>Trip Completed</td>\n",
       "      <td>2016-07-11 17:57:00</td>\n",
       "      <td>2016-07-11 18:47:00</td>\n",
       "      <td>17</td>\n",
       "      <td>11</td>\n",
       "    </tr>\n",
       "    <tr>\n",
       "      <th>2</th>\n",
       "      <td>1807</td>\n",
       "      <td>City</td>\n",
       "      <td>1.0</td>\n",
       "      <td>Trip Completed</td>\n",
       "      <td>2016-07-12 09:17:00</td>\n",
       "      <td>2016-07-12 09:58:00</td>\n",
       "      <td>9</td>\n",
       "      <td>12</td>\n",
       "    </tr>\n",
       "    <tr>\n",
       "      <th>3</th>\n",
       "      <td>2532</td>\n",
       "      <td>Airport</td>\n",
       "      <td>1.0</td>\n",
       "      <td>Trip Completed</td>\n",
       "      <td>2016-07-12 21:08:00</td>\n",
       "      <td>2016-07-12 22:03:00</td>\n",
       "      <td>21</td>\n",
       "      <td>12</td>\n",
       "    </tr>\n",
       "    <tr>\n",
       "      <th>4</th>\n",
       "      <td>3112</td>\n",
       "      <td>City</td>\n",
       "      <td>1.0</td>\n",
       "      <td>Trip Completed</td>\n",
       "      <td>2016-07-13 08:33:16</td>\n",
       "      <td>2016-07-13 09:25:47</td>\n",
       "      <td>8</td>\n",
       "      <td>13</td>\n",
       "    </tr>\n",
       "    <tr>\n",
       "      <th>...</th>\n",
       "      <td>...</td>\n",
       "      <td>...</td>\n",
       "      <td>...</td>\n",
       "      <td>...</td>\n",
       "      <td>...</td>\n",
       "      <td>...</td>\n",
       "      <td>...</td>\n",
       "      <td>...</td>\n",
       "    </tr>\n",
       "    <tr>\n",
       "      <th>6740</th>\n",
       "      <td>6745</td>\n",
       "      <td>City</td>\n",
       "      <td>NaN</td>\n",
       "      <td>No Cars Available</td>\n",
       "      <td>2016-07-15 23:49:03</td>\n",
       "      <td>NaT</td>\n",
       "      <td>23</td>\n",
       "      <td>15</td>\n",
       "    </tr>\n",
       "    <tr>\n",
       "      <th>6741</th>\n",
       "      <td>6752</td>\n",
       "      <td>Airport</td>\n",
       "      <td>NaN</td>\n",
       "      <td>No Cars Available</td>\n",
       "      <td>2016-07-15 23:50:05</td>\n",
       "      <td>NaT</td>\n",
       "      <td>23</td>\n",
       "      <td>15</td>\n",
       "    </tr>\n",
       "    <tr>\n",
       "      <th>6742</th>\n",
       "      <td>6751</td>\n",
       "      <td>City</td>\n",
       "      <td>NaN</td>\n",
       "      <td>No Cars Available</td>\n",
       "      <td>2016-07-15 23:52:06</td>\n",
       "      <td>NaT</td>\n",
       "      <td>23</td>\n",
       "      <td>15</td>\n",
       "    </tr>\n",
       "    <tr>\n",
       "      <th>6743</th>\n",
       "      <td>6754</td>\n",
       "      <td>City</td>\n",
       "      <td>NaN</td>\n",
       "      <td>No Cars Available</td>\n",
       "      <td>2016-07-15 23:54:39</td>\n",
       "      <td>NaT</td>\n",
       "      <td>23</td>\n",
       "      <td>15</td>\n",
       "    </tr>\n",
       "    <tr>\n",
       "      <th>6744</th>\n",
       "      <td>6753</td>\n",
       "      <td>Airport</td>\n",
       "      <td>NaN</td>\n",
       "      <td>No Cars Available</td>\n",
       "      <td>2016-07-15 23:55:03</td>\n",
       "      <td>NaT</td>\n",
       "      <td>23</td>\n",
       "      <td>15</td>\n",
       "    </tr>\n",
       "  </tbody>\n",
       "</table>\n",
       "<p>6745 rows × 8 columns</p>\n",
       "</div>"
      ],
      "text/plain": [
       "      Request id Pickup point  Driver id             Status  \\\n",
       "0            619      Airport        1.0     Trip Completed   \n",
       "1            867      Airport        1.0     Trip Completed   \n",
       "2           1807         City        1.0     Trip Completed   \n",
       "3           2532      Airport        1.0     Trip Completed   \n",
       "4           3112         City        1.0     Trip Completed   \n",
       "...          ...          ...        ...                ...   \n",
       "6740        6745         City        NaN  No Cars Available   \n",
       "6741        6752      Airport        NaN  No Cars Available   \n",
       "6742        6751         City        NaN  No Cars Available   \n",
       "6743        6754         City        NaN  No Cars Available   \n",
       "6744        6753      Airport        NaN  No Cars Available   \n",
       "\n",
       "       Request timestamp      Drop timestamp  request_hr  request_day  \n",
       "0    2016-07-11 11:51:00 2016-07-11 13:00:00          11           11  \n",
       "1    2016-07-11 17:57:00 2016-07-11 18:47:00          17           11  \n",
       "2    2016-07-12 09:17:00 2016-07-12 09:58:00           9           12  \n",
       "3    2016-07-12 21:08:00 2016-07-12 22:03:00          21           12  \n",
       "4    2016-07-13 08:33:16 2016-07-13 09:25:47           8           13  \n",
       "...                  ...                 ...         ...          ...  \n",
       "6740 2016-07-15 23:49:03                 NaT          23           15  \n",
       "6741 2016-07-15 23:50:05                 NaT          23           15  \n",
       "6742 2016-07-15 23:52:06                 NaT          23           15  \n",
       "6743 2016-07-15 23:54:39                 NaT          23           15  \n",
       "6744 2016-07-15 23:55:03                 NaT          23           15  \n",
       "\n",
       "[6745 rows x 8 columns]"
      ]
     },
     "execution_count": 6,
     "metadata": {},
     "output_type": "execute_result"
    }
   ],
   "source": [
    "#to add new columns with requested hour and day \n",
    "\n",
    "uber_data[\"request_hr\"]=uber_data[\"Request timestamp\"].dt.hour\n",
    "uber_data[\"request_day\"]=uber_data[\"Request timestamp\"].dt.day\n",
    "uber_data"
   ]
  },
  {
   "cell_type": "code",
   "execution_count": 7,
   "metadata": {},
   "outputs": [
    {
     "data": {
      "image/png": "[encoded data removed]",
      "text/plain": [
       "<Figure size 720x1080 with 5 Axes>"
      ]
     },
     "metadata": {
      "needs_background": "light"
     },
     "output_type": "display_data"
    }
   ],
   "source": [
    "#request count for hour for every day\n",
    "\n",
    "sns.catplot(\"request_hr\",data=uber_data,kind=\"count\",col=\"request_day\",col_wrap=2)\n",
    "sns.set_style(\"darkgrid\")\n",
    "sns.set_palette(\"RdBu\")\n",
    "plt.show()"
   ]
  },
  {
   "cell_type": "code",
   "execution_count": 8,
   "metadata": {},
   "outputs": [
    {
     "data": {
      "text/plain": [
       "<Figure size 720x432 with 0 Axes>"
      ]
     },
     "metadata": {},
     "output_type": "display_data"
    },
    {
     "data": {
      "image/png": "[encoded data removed]",
      "text/plain": [
       "<Figure size 1145.62x360 with 3 Axes>"
      ]
     },
     "metadata": {},
     "output_type": "display_data"
    }
   ],
   "source": [
    "#status of request for every hour from different pickup point \n",
    "plt.figure(figsize=(10,6))\n",
    "sns.catplot(\"request_hr\",data=uber_data,kind=\"count\",hue=\"Pickup point\",col=\"Status\")\n",
    "sns.set_palette([\"green\",\"Yellow\",\"red\"])\n",
    "sns.set_style(\"white\")\n",
    "plt.show()"
   ]
  },
  {
   "cell_type": "code",
   "execution_count": 9,
   "metadata": {},
   "outputs": [
    {
     "data": {
      "text/html": [
       "<div>\n",
       "<style scoped>\n",
       "    .dataframe tbody tr th:only-of-type {\n",
       "        vertical-align: middle;\n",
       "    }\n",
       "\n",
       "    .dataframe tbody tr th {\n",
       "        vertical-align: top;\n",
       "    }\n",
       "\n",
       "    .dataframe thead th {\n",
       "        text-align: right;\n",
       "    }\n",
       "</style>\n",
       "<table border=\"1\" class=\"dataframe\">\n",
       "  <thead>\n",
       "    <tr style=\"text-align: right;\">\n",
       "      <th></th>\n",
       "      <th>Request id</th>\n",
       "      <th>Pickup point</th>\n",
       "      <th>Driver id</th>\n",
       "      <th>Status</th>\n",
       "      <th>Request timestamp</th>\n",
       "      <th>Drop timestamp</th>\n",
       "      <th>request_hr</th>\n",
       "      <th>request_day</th>\n",
       "      <th>Time slot</th>\n",
       "    </tr>\n",
       "  </thead>\n",
       "  <tbody>\n",
       "    <tr>\n",
       "      <th>0</th>\n",
       "      <td>619</td>\n",
       "      <td>Airport</td>\n",
       "      <td>1.0</td>\n",
       "      <td>Trip Completed</td>\n",
       "      <td>2016-07-11 11:51:00</td>\n",
       "      <td>2016-07-11 13:00:00</td>\n",
       "      <td>11</td>\n",
       "      <td>11</td>\n",
       "      <td>Day time</td>\n",
       "    </tr>\n",
       "    <tr>\n",
       "      <th>1</th>\n",
       "      <td>867</td>\n",
       "      <td>Airport</td>\n",
       "      <td>1.0</td>\n",
       "      <td>Trip Completed</td>\n",
       "      <td>2016-07-11 17:57:00</td>\n",
       "      <td>2016-07-11 18:47:00</td>\n",
       "      <td>17</td>\n",
       "      <td>11</td>\n",
       "      <td>Evening rush</td>\n",
       "    </tr>\n",
       "    <tr>\n",
       "      <th>2</th>\n",
       "      <td>1807</td>\n",
       "      <td>City</td>\n",
       "      <td>1.0</td>\n",
       "      <td>Trip Completed</td>\n",
       "      <td>2016-07-12 09:17:00</td>\n",
       "      <td>2016-07-12 09:58:00</td>\n",
       "      <td>9</td>\n",
       "      <td>12</td>\n",
       "      <td>Morning rush</td>\n",
       "    </tr>\n",
       "    <tr>\n",
       "      <th>3</th>\n",
       "      <td>2532</td>\n",
       "      <td>Airport</td>\n",
       "      <td>1.0</td>\n",
       "      <td>Trip Completed</td>\n",
       "      <td>2016-07-12 21:08:00</td>\n",
       "      <td>2016-07-12 22:03:00</td>\n",
       "      <td>21</td>\n",
       "      <td>12</td>\n",
       "      <td>Evening rush</td>\n",
       "    </tr>\n",
       "    <tr>\n",
       "      <th>4</th>\n",
       "      <td>3112</td>\n",
       "      <td>City</td>\n",
       "      <td>1.0</td>\n",
       "      <td>Trip Completed</td>\n",
       "      <td>2016-07-13 08:33:16</td>\n",
       "      <td>2016-07-13 09:25:47</td>\n",
       "      <td>8</td>\n",
       "      <td>13</td>\n",
       "      <td>Morning rush</td>\n",
       "    </tr>\n",
       "    <tr>\n",
       "      <th>...</th>\n",
       "      <td>...</td>\n",
       "      <td>...</td>\n",
       "      <td>...</td>\n",
       "      <td>...</td>\n",
       "      <td>...</td>\n",
       "      <td>...</td>\n",
       "      <td>...</td>\n",
       "      <td>...</td>\n",
       "      <td>...</td>\n",
       "    </tr>\n",
       "    <tr>\n",
       "      <th>6740</th>\n",
       "      <td>6745</td>\n",
       "      <td>City</td>\n",
       "      <td>NaN</td>\n",
       "      <td>No Cars Available</td>\n",
       "      <td>2016-07-15 23:49:03</td>\n",
       "      <td>NaT</td>\n",
       "      <td>23</td>\n",
       "      <td>15</td>\n",
       "      <td>Late night</td>\n",
       "    </tr>\n",
       "    <tr>\n",
       "      <th>6741</th>\n",
       "      <td>6752</td>\n",
       "      <td>Airport</td>\n",
       "      <td>NaN</td>\n",
       "      <td>No Cars Available</td>\n",
       "      <td>2016-07-15 23:50:05</td>\n",
       "      <td>NaT</td>\n",
       "      <td>23</td>\n",
       "      <td>15</td>\n",
       "      <td>Late night</td>\n",
       "    </tr>\n",
       "    <tr>\n",
       "      <th>6742</th>\n",
       "      <td>6751</td>\n",
       "      <td>City</td>\n",
       "      <td>NaN</td>\n",
       "      <td>No Cars Available</td>\n",
       "      <td>2016-07-15 23:52:06</td>\n",
       "      <td>NaT</td>\n",
       "      <td>23</td>\n",
       "      <td>15</td>\n",
       "      <td>Late night</td>\n",
       "    </tr>\n",
       "    <tr>\n",
       "      <th>6743</th>\n",
       "      <td>6754</td>\n",
       "      <td>City</td>\n",
       "      <td>NaN</td>\n",
       "      <td>No Cars Available</td>\n",
       "      <td>2016-07-15 23:54:39</td>\n",
       "      <td>NaT</td>\n",
       "      <td>23</td>\n",
       "      <td>15</td>\n",
       "      <td>Late night</td>\n",
       "    </tr>\n",
       "    <tr>\n",
       "      <th>6744</th>\n",
       "      <td>6753</td>\n",
       "      <td>Airport</td>\n",
       "      <td>NaN</td>\n",
       "      <td>No Cars Available</td>\n",
       "      <td>2016-07-15 23:55:03</td>\n",
       "      <td>NaT</td>\n",
       "      <td>23</td>\n",
       "      <td>15</td>\n",
       "      <td>Late night</td>\n",
       "    </tr>\n",
       "  </tbody>\n",
       "</table>\n",
       "<p>6745 rows × 9 columns</p>\n",
       "</div>"
      ],
      "text/plain": [
       "      Request id Pickup point  Driver id             Status  \\\n",
       "0            619      Airport        1.0     Trip Completed   \n",
       "1            867      Airport        1.0     Trip Completed   \n",
       "2           1807         City        1.0     Trip Completed   \n",
       "3           2532      Airport        1.0     Trip Completed   \n",
       "4           3112         City        1.0     Trip Completed   \n",
       "...          ...          ...        ...                ...   \n",
       "6740        6745         City        NaN  No Cars Available   \n",
       "6741        6752      Airport        NaN  No Cars Available   \n",
       "6742        6751         City        NaN  No Cars Available   \n",
       "6743        6754         City        NaN  No Cars Available   \n",
       "6744        6753      Airport        NaN  No Cars Available   \n",
       "\n",
       "       Request timestamp      Drop timestamp  request_hr  request_day  \\\n",
       "0    2016-07-11 11:51:00 2016-07-11 13:00:00          11           11   \n",
       "1    2016-07-11 17:57:00 2016-07-11 18:47:00          17           11   \n",
       "2    2016-07-12 09:17:00 2016-07-12 09:58:00           9           12   \n",
       "3    2016-07-12 21:08:00 2016-07-12 22:03:00          21           12   \n",
       "4    2016-07-13 08:33:16 2016-07-13 09:25:47           8           13   \n",
       "...                  ...                 ...         ...          ...   \n",
       "6740 2016-07-15 23:49:03                 NaT          23           15   \n",
       "6741 2016-07-15 23:50:05                 NaT          23           15   \n",
       "6742 2016-07-15 23:52:06                 NaT          23           15   \n",
       "6743 2016-07-15 23:54:39                 NaT          23           15   \n",
       "6744 2016-07-15 23:55:03                 NaT          23           15   \n",
       "\n",
       "         Time slot  \n",
       "0         Day time  \n",
       "1     Evening rush  \n",
       "2     Morning rush  \n",
       "3     Evening rush  \n",
       "4     Morning rush  \n",
       "...            ...  \n",
       "6740    Late night  \n",
       "6741    Late night  \n",
       "6742    Late night  \n",
       "6743    Late night  \n",
       "6744    Late night  \n",
       "\n",
       "[6745 rows x 9 columns]"
      ]
     },
     "execution_count": 9,
     "metadata": {},
     "output_type": "execute_result"
    }
   ],
   "source": [
    "#catagorize time slot for further analyse \n",
    "\n",
    "uber_data[\"Time slot\"]=0\n",
    "j=0\n",
    "for i in uber_data[\"request_hr\"]:\n",
    "    if uber_data.iloc[j,6] <5:\n",
    "        uber_data.iloc[j,8]=\"Pre_morning\"\n",
    "    elif 5<=  uber_data.iloc[j,6] <10:\n",
    "        uber_data.iloc[j,8]=\"Morning rush\"\n",
    "    elif 10<=  uber_data.iloc[j,6] <17:\n",
    "        uber_data.iloc[j,8]=\"Day time\"\n",
    "    elif 17<=  uber_data.iloc[j,6] <22:\n",
    "        uber_data.iloc[j,8]=\"Evening rush\"\n",
    "    else:\n",
    "        uber_data.iloc[j,8]=\"Late night\"\n",
    "    j=j+1\n",
    "uber_data"
   ]
  },
  {
   "cell_type": "code",
   "execution_count": 10,
   "metadata": {},
   "outputs": [
    {
     "data": {
      "text/plain": [
       "Evening rush    2342\n",
       "Morning rush    2103\n",
       "Day time        1224\n",
       "Pre_morning      578\n",
       "Late night       498\n",
       "Name: Time slot, dtype: int64"
      ]
     },
     "execution_count": 10,
     "metadata": {},
     "output_type": "execute_result"
    }
   ],
   "source": [
    "#time slot counts \n",
    "\n",
    "uber_data[\"Time slot\"].value_counts()"
   ]
  },
  {
   "cell_type": "code",
   "execution_count": 11,
   "metadata": {},
   "outputs": [
    {
     "data": {
      "image/png": "[encoded data removed]",
      "text/plain": [
       "<Figure size 720x432 with 1 Axes>"
      ]
     },
     "metadata": {},
     "output_type": "display_data"
    }
   ],
   "source": [
    "#plot on time slot and counts \n",
    "plt.figure(figsize=(10,6))\n",
    "sns.countplot(x=\"Time slot\",data=uber_data,hue=\"Status\",\n",
    "              order=(\"Pre_morning\",\"Morning rush\",\"Day time\",\"Evening rush\",\"Late night\"))\n",
    "plt.show()"
   ]
  },
  {
   "cell_type": "code",
   "execution_count": 12,
   "metadata": {},
   "outputs": [
    {
     "data": {
      "image/png": "[encoded data removed]",
      "text/plain": [
       "<Figure size 475.625x360 with 1 Axes>"
      ]
     },
     "metadata": {},
     "output_type": "display_data"
    }
   ],
   "source": [
    "#status count for pickup points for time slot \"Morning Rush\"\n",
    "\n",
    "morning_rush= uber_data[uber_data[\"Time slot\"]==\"Morning rush\"]\n",
    "sns.catplot(x=\"Pickup point\",data=morning_rush,kind=\"count\",hue=\"Status\")\n",
    "plt.show()"
   ]
  },
  {
   "cell_type": "code",
   "execution_count": 13,
   "metadata": {},
   "outputs": [
    {
     "data": {
      "image/png": "[encoded data removed]",
      "text/plain": [
       "<Figure size 475.625x360 with 1 Axes>"
      ]
     },
     "metadata": {},
     "output_type": "display_data"
    }
   ],
   "source": [
    "#status count for pickup points for time slot \"Morning Rush\"\n",
    "\n",
    "evening_rush= uber_data[uber_data[\"Time slot\"]==\"Evening rush\"]\n",
    "sns.catplot(x=\"Pickup point\",data=evening_rush,kind=\"count\",hue=\"Status\")\n",
    "plt.show()"
   ]
  },
  {
   "cell_type": "markdown",
   "metadata": {},
   "source": [
    "# Severity problem at each location by looking at cancellation of cabs in each of the pickup location"
   ]
  },
  {
   "cell_type": "code",
   "execution_count": 14,
   "metadata": {},
   "outputs": [
    {
     "name": "stdout",
     "output_type": "stream",
     "text": [
      "Cancelled Airport trip during  morning rush hours 23\n",
      "Cancelled City trip during morning rush hours     820\n",
      "Cancelled Airport trip during evening rush hours  106\n",
      "Cancelled City trip during evening rush hours     60\n"
     ]
    }
   ],
   "source": [
    "#cancellation of cab as per the pickup location at morning rush hours\n",
    "\n",
    "airpot_cancelled_mrng= morning_rush.loc[(morning_rush[\"Pickup point\"]==\"Airport\") & (morning_rush[\"Status\"]==\"Cancelled\")].shape[0]\n",
    "city_cancelled_mrng= morning_rush.loc[(morning_rush[\"Pickup point\"]==\"City\") & (morning_rush[\"Status\"]==\"Cancelled\")].shape[0]\n",
    "\n",
    "#cancellation of cab as per the pickup location at morning rush hours\n",
    "\n",
    "airpot_cancelled_eve= evening_rush.loc[(evening_rush[\"Pickup point\"]==\"Airport\") & (evening_rush[\"Status\"]==\"Cancelled\")].shape[0]\n",
    "city_cancelled_eve= evening_rush.loc[(evening_rush[\"Pickup point\"]==\"City\") & (evening_rush[\"Status\"]==\"Cancelled\")].shape[0]\n",
    "\n",
    "\n",
    "print(\"Cancelled Airport trip during  morning rush hours\",airpot_cancelled_mrng)\n",
    "print(\"Cancelled City trip during morning rush hours    \",city_cancelled_mrng)\n",
    "\n",
    "print(\"Cancelled Airport trip during evening rush hours \",airpot_cancelled_eve)\n",
    "print(\"Cancelled City trip during evening rush hours    \",city_cancelled_eve)\n"
   ]
  },
  {
   "cell_type": "code",
   "execution_count": 29,
   "metadata": {},
   "outputs": [
    {
     "data": {
      "image/png": "[encoded data removed]",
      "text/plain": [
       "<Figure size 360x360 with 1 Axes>"
      ]
     },
     "metadata": {},
     "output_type": "display_data"
    }
   ],
   "source": [
    "#cancelled trip for pickup points in morning rush\n",
    "\n",
    "cancelled_trip_mrng= morning_rush.loc[morning_rush[\"Status\"]==\"Cancelled\"]\n",
    "sns.catplot(x=\"Pickup point\",data=cancelled_trip_mrng,kind=\"count\")\n",
    "sns.set_palette([\"purple\",\"orange\"])\n",
    "plt.show()"
   ]
  },
  {
   "cell_type": "code",
   "execution_count": 30,
   "metadata": {},
   "outputs": [
    {
     "data": {
      "image/png": "[encoded data removed]",
      "text/plain": [
       "<Figure size 360x360 with 1 Axes>"
      ]
     },
     "metadata": {},
     "output_type": "display_data"
    }
   ],
   "source": [
    "#cancelled trip for pickup points in evening rush\n",
    "\n",
    "cancelled_trip_eve= evening_rush.loc[evening_rush[\"Status\"]==\"Cancelled\"]\n",
    "sns.catplot(x=\"Pickup point\",data=cancelled_trip_eve,kind=\"count\")\n",
    "plt.show()"
   ]
  },
  {
   "cell_type": "markdown",
   "metadata": {},
   "source": [
    "##Comapring with both the plot above the cancellation request is high in number from city to airport during morning rush hours and during evening rush hours airport to city has been cancelled more"
   ]
  },
  {
   "cell_type": "code",
   "execution_count": 31,
   "metadata": {},
   "outputs": [
    {
     "data": {
      "image/png": "[encoded data removed]",
      "text/plain": [
       "<Figure size 360x360 with 1 Axes>"
      ]
     },
     "metadata": {},
     "output_type": "display_data"
    }
   ],
   "source": [
    "#cancelled trip during time slot\n",
    "\n",
    "cancelled_trip= uber_data.loc[uber_data['Status']==\"Cancelled\"] \n",
    "sns.catplot(x=\"Time slot\",data=cancelled_trip,kind=\"count\")\n",
    "plt.show()"
   ]
  },
  {
   "cell_type": "markdown",
   "metadata": {},
   "source": [
    "# The frequency of requests that get cancelled\n",
    "From the count plot above, we can see that the request for cancellation is high during morning hours from 5 AM to 10 AM which is peak hours. Evening from 5pm to 10 pm has as many cancel request as day time from 10 AM to 5PM. late night has fewer number of cancallation. "
   ]
  },
  {
   "cell_type": "markdown",
   "metadata": {},
   "source": [
    "# Severity problem at each location by looking at availability of cabs in each of the pickup location"
   ]
  },
  {
   "cell_type": "code",
   "execution_count": 341,
   "metadata": {},
   "outputs": [
    {
     "name": "stdout",
     "output_type": "stream",
     "text": [
      "unavailablity of cabs for Airport trip during  morning rush hours 21\n",
      "unavailablity of cabs for City trip during morning rush hours     385\n",
      "unavailablity of cabs for Airport trip during evening rush hours  1321\n",
      "unavailablity of cabs for City trip during evening rush hours     71\n"
     ]
    }
   ],
   "source": [
    "#unavailability of cab as per the pickup location at morning rush hours\n",
    "\n",
    "airpot_no_cab_mrng= morning_rush.loc[(morning_rush[\"Pickup point\"]==\"Airport\") & (morning_rush[\"Status\"]==\"No Cars Available\")].shape[0]\n",
    "city_no_cab_mrng= morning_rush.loc[(morning_rush[\"Pickup point\"]==\"City\") & (morning_rush[\"Status\"]==\"No Cars Available\")].shape[0]\n",
    "\n",
    "#unavailability of cab as per the pickup location at morning rush hours\n",
    "\n",
    "airpot_no_cab_eve= evening_rush.loc[(evening_rush[\"Pickup point\"]==\"Airport\") & (evening_rush[\"Status\"]==\"No Cars Available\")].shape[0]\n",
    "city_no_cab_eve= evening_rush.loc[(evening_rush[\"Pickup point\"]==\"City\") & (evening_rush[\"Status\"]==\"No Cars Available\")].shape[0]\n",
    "\n",
    "\n",
    "print(\"unavailablity of cabs for Airport trip during  morning rush hours\",airpot_no_cab_mrng)\n",
    "print(\"unavailablity of cabs for City trip during morning rush hours    \",city_no_cab_mrng)\n",
    "\n",
    "print(\"unavailablity of cabs for Airport trip during evening rush hours \",airpot_no_cab_eve)\n",
    "print(\"unavailablity of cabs for City trip during evening rush hours    \",city_no_cab_eve)\n"
   ]
  },
  {
   "cell_type": "code",
   "execution_count": 345,
   "metadata": {},
   "outputs": [
    {
     "data": {
      "image/png": "[encoded data removed]",
      "text/plain": [
       "<Figure size 360x360 with 1 Axes>"
      ]
     },
     "metadata": {},
     "output_type": "display_data"
    }
   ],
   "source": [
    "#cancelled trip during time slot\n",
    "\n",
    "no_cab= uber_data.loc[uber_data['Status']==\"No Cars Available\"] \n",
    "sns.catplot(x=\"Time slot\",data=no_cab,kind=\"count\")\n",
    "plt.show()"
   ]
  },
  {
   "cell_type": "markdown",
   "metadata": {},
   "source": [
    "##The unavailability of cars is high during evening rush hours from 5 PM to 10 Pm which is actually a peak time. where people travel most. there is high demand of cars during eveing rush hours."
   ]
  },
  {
   "cell_type": "markdown",
   "metadata": {},
   "source": [
    "# Supply and demand for morning rush hours"
   ]
  },
  {
   "cell_type": "code",
   "execution_count": 350,
   "metadata": {},
   "outputs": [
    {
     "name": "stdout",
     "output_type": "stream",
     "text": [
      "Number of trips in Morning rush            2103\n",
      "Number of trips completed in Morning rush  854\n",
      "Percentage Demand for Morning rush         59 %\n"
     ]
    }
   ],
   "source": [
    "Demand_mrng_rush= uber_data.loc[(uber_data[\"Time slot\"]==\"Morning rush\")].shape[0]\n",
    "Supply_mrng_rush= uber_data.loc[(uber_data[\"Time slot\"]==\"Morning rush\")&(uber_data[\"Status\"]==\"Trip Completed\")].shape[0]\n",
    " \n",
    "print(\"Number of trips in Morning rush           \",Demand_mrng_rush)\n",
    "print(\"Number of trips completed in Morning rush \",Supply_mrng_rush)\n",
    "\n",
    "#to calcuate morning rush demand percentage \n",
    "\n",
    "percent_Demand_mrng_rush= 100-(round((Supply_mrng_rush/Demand_mrng_rush)*100))\n",
    "\n",
    "print(\"Percentage Demand for Morning rush        \", percent_Demand_mrng_rush,\"%\")"
   ]
  },
  {
   "cell_type": "markdown",
   "metadata": {},
   "source": [
    "# Supply and demand for morning rush hours by location"
   ]
  },
  {
   "cell_type": "code",
   "execution_count": 114,
   "metadata": {},
   "outputs": [
    {
     "name": "stdout",
     "output_type": "stream",
     "text": [
      "Number of Airport trip in morning rush hours           426\n",
      "Number of Airport trip completed in morning rush hours 382\n",
      "Number of City trip in morning rush hours              1677\n",
      "Number of City trip completed in morning rush hours    472\n"
     ]
    }
   ],
   "source": [
    "#Airport supply and demand for morning rush\n",
    "\n",
    "Airport_Demand_mrng_rush = morning_rush.loc[(morning_rush[\"Pickup point\"]==\"Airport\")].shape[0]\n",
    "Airport_Supply_mrng_rush = morning_rush.loc[(morning_rush[\"Pickup point\"]==\"Airport\") &\n",
    "                                           (morning_rush[\"Status\"]==\"Trip Completed\")].shape[0]\n",
    "\n",
    "\n",
    "\n",
    "#Airport supply and demand for morning rush\n",
    "\n",
    "City_Demand_mrng_rush = morning_rush.loc[(morning_rush[\"Pickup point\"]==\"City\")].shape[0]\n",
    "City_Supply_mrng_rush = morning_rush.loc[(morning_rush[\"Pickup point\"]==\"City\")&\n",
    "                                         (morning_rush[\"Status\"]==\"Trip Completed\")].shape[0]\n",
    "\n",
    "\n",
    "\n",
    "print(\"Number of Airport trip in morning rush hours          \", Airpot_Demand_mrng_rush)\n",
    "print(\"Number of Airport trip completed in morning rush hours\", Airpot_Supply_mrng_rush)\n",
    "\n",
    "print(\"Number of City trip in morning rush hours             \", City_Demand_mrng_rush)\n",
    "print(\"Number of City trip completed in morning rush hours   \", City_Supply_mrng_rush)\n",
    "\n"
   ]
  },
  {
   "cell_type": "code",
   "execution_count": 299,
   "metadata": {},
   "outputs": [
    {
     "data": {
      "text/plain": [
       "<matplotlib.axes._subplots.AxesSubplot at 0x150afd90>"
      ]
     },
     "execution_count": 299,
     "metadata": {},
     "output_type": "execute_result"
    },
    {
     "data": {
      "image/png": "[encoded data removed]",
      "text/plain": [
       "<Figure size 360x360 with 1 Axes>"
      ]
     },
     "metadata": {},
     "output_type": "display_data"
    }
   ],
   "source": [
    "#morning rush  at airport\n",
    "\n",
    "Airport_mrng= morning_rush.loc[(morning_rush[\"Pickup point\"]==\"Airport\")]\n",
    "\n",
    "#converting morning rush into data frame\n",
    "\n",
    "Airport_mrng_count=pd.DataFrame(Airport_mrng[\"Status\"].value_counts())\n",
    "\n",
    "#pie chart represting for morning rush airport location \n",
    "\n",
    "colors = ( \"orange\", \"cyan\", \"brown\", \n",
    "          \"grey\", \"indigo\", \"beige\") \n",
    "Airport_mrng_count.plot.pie(y='Status',colors = colors,autopct=\"%.2f%%\",startangle=90,figsize=(5, 5))"
   ]
  },
  {
   "cell_type": "code",
   "execution_count": 300,
   "metadata": {},
   "outputs": [
    {
     "data": {
      "text/plain": [
       "<matplotlib.axes._subplots.AxesSubplot at 0x150c7418>"
      ]
     },
     "execution_count": 300,
     "metadata": {},
     "output_type": "execute_result"
    },
    {
     "data": {
      "image/png": "[encoded data removed]",
      "text/plain": [
       "<Figure size 360x360 with 1 Axes>"
      ]
     },
     "metadata": {},
     "output_type": "display_data"
    }
   ],
   "source": [
    "#morning rush  at city\n",
    "\n",
    "city_mrng= morning_rush.loc[(morning_rush[\"Pickup point\"]==\"City\")]\n",
    "\n",
    "#converting morning rush into data frame\n",
    "\n",
    "city_mrng_count=pd.DataFrame(city_mrng[\"Status\"].value_counts())\n",
    "\n",
    "#pie chart represting for morning rush airport location \n",
    "\n",
    "city_mrng_count.plot.pie(y='Status',colors = colors,autopct=\"%.2f%%\",startangle=90,figsize=(5, 5))"
   ]
  },
  {
   "cell_type": "code",
   "execution_count": 346,
   "metadata": {},
   "outputs": [
    {
     "name": "stdout",
     "output_type": "stream",
     "text": [
      "Demand percentage for airport                          10 %\n",
      "Demand percentage for city                             72 %\n"
     ]
    }
   ],
   "source": [
    "\n",
    "# to calculate percentage demand for Airport in morning rush\n",
    "\n",
    "percent_airport_Demand_mrng_rush=100- (round((Airport_Supply_mrng_rush/Airport_Demand_mrng_rush)*100))\n",
    "\n",
    "#to calculate percentge demand for city in morning rush\n",
    "\n",
    "percent_city_Demand_mrng_rush= 100-(round((City_Supply_mrng_rush/City_Demand_mrng_rush)*100))\n",
    "\n",
    "print(\"Demand percentage for airport                         \",percent_airport_Demand_mrng_rush,\"%\")\n",
    "print(\"Demand percentage for city                            \",percent_city_Demand_mrng_rush,\"%\")\n"
   ]
  },
  {
   "cell_type": "code",
   "execution_count": 59,
   "metadata": {},
   "outputs": [
    {
     "data": {
      "text/plain": [
       "<matplotlib.axes._subplots.AxesSubplot at 0xeed4e50>"
      ]
     },
     "execution_count": 59,
     "metadata": {},
     "output_type": "execute_result"
    },
    {
     "data": {
      "image/png": "[encoded data removed]",
      "text/plain": [
       "<Figure size 432x288 with 1 Axes>"
      ]
     },
     "metadata": {},
     "output_type": "display_data"
    }
   ],
   "source": [
    "#Demand in morning rush\n",
    "\n",
    "sns.countplot(x=\"Pickup point\",data=morning_rush)"
   ]
  },
  {
   "cell_type": "code",
   "execution_count": 60,
   "metadata": {},
   "outputs": [
    {
     "data": {
      "text/plain": [
       "<matplotlib.axes._subplots.AxesSubplot at 0xe89de98>"
      ]
     },
     "execution_count": 60,
     "metadata": {},
     "output_type": "execute_result"
    },
    {
     "data": {
      "image/png": "[encoded data removed]",
      "text/plain": [
       "<Figure size 432x288 with 1 Axes>"
      ]
     },
     "metadata": {},
     "output_type": "display_data"
    }
   ],
   "source": [
    "#Supply in morning rush\n",
    "\n",
    "Supply_mrng_rush = morning_rush.loc[morning_rush['Status']==\"Trip Completed\"]\n",
    "sns.countplot(x=\"Pickup point\",data=Supply_mrng_rush)"
   ]
  },
  {
   "cell_type": "markdown",
   "metadata": {},
   "source": [
    "##### Supply and demand for morning rush hours Inference\n",
    "the Peak morning hours from 5 AM to 10 AM has 59% of demand over all. since 90% of trips were completed from the rout airport to city at this rush hours there is less demand for the rout airport to city.whereas city to airport trip has higher demand of 75% during moring rush hours. "
   ]
  },
  {
   "cell_type": "markdown",
   "metadata": {},
   "source": [
    "# Supply and demand for evening rush hours"
   ]
  },
  {
   "cell_type": "code",
   "execution_count": 351,
   "metadata": {},
   "outputs": [
    {
     "name": "stdout",
     "output_type": "stream",
     "text": [
      "Number of trips in Evening rush            2342\n",
      "Number of trips completed in Evening rush  784\n",
      "Percentage demand for Evening rush         67 %\n"
     ]
    }
   ],
   "source": [
    "Demand_eve_rush= uber_data.loc[(uber_data[\"Time slot\"]==\"Evening rush\")].shape[0]\n",
    "Supply_eve_rush= uber_data.loc[(uber_data[\"Time slot\"]==\"Evening rush\")&(uber_data[\"Status\"]==\"Trip Completed\")].shape[0]\n",
    " \n",
    "print(\"Number of trips in Evening rush           \",Demand_eve_rush)\n",
    "print(\"Number of trips completed in Evening rush \",Supply_eve_rush)\n",
    "\n",
    "#to calcuate demand percentage for evening rush\n",
    "\n",
    "percent_Demand_eve_rush=100-( round((Supply_eve_rush/Demand_eve_rush)*100))\n",
    "\n",
    "print(\"Percentage demand for Evening rush        \", percent_Demand_eve_rush,\"%\")"
   ]
  },
  {
   "cell_type": "markdown",
   "metadata": {},
   "source": [
    "# Supply and demand for evening rush hours by location"
   ]
  },
  {
   "cell_type": "code",
   "execution_count": 120,
   "metadata": {},
   "outputs": [
    {
     "name": "stdout",
     "output_type": "stream",
     "text": [
      "Number of Airport trip in Evening rush          1800\n",
      "Number of Airport trip completed in Evening rush 373\n",
      "Number of City trip in Evening rush              542\n",
      "Number of City trip completed in Evening rush     411\n"
     ]
    }
   ],
   "source": [
    "#Airport supply and demand for Evening rush\n",
    "\n",
    "Airport_Demand_eve_rush = evening_rush.loc[(evening_rush[\"Pickup point\"]==\"Airport\")].shape[0]\n",
    "Airport_Supply_eve_rush  = evening_rush.loc[(evening_rush[\"Pickup point\"]==\"Airport\") &\n",
    "                                           (evening_rush[\"Status\"]==\"Trip Completed\")].shape[0]\n",
    "\n",
    "\n",
    "#Airport supply and demand for Evening rush\n",
    "\n",
    "City_Demand_eve_rush = evening_rush.loc[(evening_rush[\"Pickup point\"]==\"City\")].shape[0]\n",
    "City_Supply_eve_rush = evening_rush.loc[(evening_rush[\"Pickup point\"]==\"City\")&\n",
    "                                         (evening_rush[\"Status\"]==\"Trip Completed\")].shape[0]\n",
    "\n",
    "\n",
    "print(\"Number of Airport trip in Evening rush           \", Airport_Demand_eve_rush)\n",
    "print(\"Number of Airport trip completed in Evening rush \", Airport_Supply_eve_rush)\n",
    "\n",
    "print(\"Number of City trip in Evening rush              \", City_Demand_eve_rush)\n",
    "print(\"Number of City trip completed in Evening rush    \", City_Supply_eve_rush)\n",
    "\n"
   ]
  },
  {
   "cell_type": "code",
   "execution_count": 298,
   "metadata": {},
   "outputs": [
    {
     "data": {
      "text/plain": [
       "<matplotlib.axes._subplots.AxesSubplot at 0x14d1bf40>"
      ]
     },
     "execution_count": 298,
     "metadata": {},
     "output_type": "execute_result"
    },
    {
     "data": {
      "image/png": "[encoded data removed]",
      "text/plain": [
       "<Figure size 360x360 with 1 Axes>"
      ]
     },
     "metadata": {},
     "output_type": "display_data"
    }
   ],
   "source": [
    "#evening rush  at airport\n",
    "\n",
    "Airport_eve= evening_rush.loc[(evening_rush[\"Pickup point\"]==\"Airport\")]\n",
    "\n",
    "#converting evening rush into data frame\n",
    "\n",
    "Airport_eve_count=pd.DataFrame(Airport_eve[\"Status\"].value_counts())\n",
    "\n",
    "#pie chart represting for evening rush airport location \n",
    "\n",
    "colors = ( \"orange\", \"cyan\", \"brown\", \n",
    "          \"grey\", \"indigo\", \"beige\") \n",
    "Airport_eve_count.plot.pie(y='Status',colors = colors,autopct=\"%.2f%%\",startangle=90,figsize=(5, 5))"
   ]
  },
  {
   "cell_type": "code",
   "execution_count": 348,
   "metadata": {},
   "outputs": [
    {
     "data": {
      "text/plain": [
       "<matplotlib.axes._subplots.AxesSubplot at 0x16f699b8>"
      ]
     },
     "execution_count": 348,
     "metadata": {},
     "output_type": "execute_result"
    },
    {
     "data": {
      "image/png": "[encoded data removed]",
      "text/plain": [
       "<Figure size 360x360 with 1 Axes>"
      ]
     },
     "metadata": {},
     "output_type": "display_data"
    }
   ],
   "source": [
    "#evening rush  at city\n",
    "\n",
    "city_eve= evening_rush.loc[(evening_rush[\"Pickup point\"]==\"City\")]\n",
    "\n",
    "#converting evening rush into data frame\n",
    "\n",
    "city_eve_count=pd.DataFrame(city_eve[\"Status\"].value_counts())\n",
    "\n",
    "#pie chart represting for evening rush city location \n",
    "\n",
    "city_eve_count.plot.pie(y='Status',colors = colors,autopct=\"%.2f%%\", startangle =90,figsize=(5, 5))\n"
   ]
  },
  {
   "cell_type": "code",
   "execution_count": 347,
   "metadata": {},
   "outputs": [
    {
     "name": "stdout",
     "output_type": "stream",
     "text": [
      "Percentage Demand for airport                          79 %\n",
      "Percentage Demand for city                             24 %\n"
     ]
    }
   ],
   "source": [
    "# to calculate percentage demand for Airport in Evening rush\n",
    "\n",
    "percent_airport_Demand_eve_rush= 100-(round((Airport_Supply_eve_rush/Airport_Demand_eve_rush)*100))\n",
    "\n",
    "#to calculate percentge demand for city in Evening rush\n",
    "percent_city_Demand_eve_rush= 100-(round((City_Supply_eve_rush/City_Demand_eve_rush)*100))\n",
    "\n",
    "print(\"Percentage Demand for airport                         \",percent_airport_Demand_eve_rush,\"%\")\n",
    "print(\"Percentage Demand for city                            \",percent_city_Demand_eve_rush,\"%\")\n",
    "\n"
   ]
  },
  {
   "cell_type": "markdown",
   "metadata": {},
   "source": [
    "# Inference for Supply and demand evening rush hours \n",
    "There is 79% of demand for airport to city trips during evening peak hours from 5 PM to 10 PM. only 21% of trip has been completed and 73% of trip has no car availability. cancellation request is all less. The demand percentage is low for city to airport trips. "
   ]
  },
  {
   "cell_type": "markdown",
   "metadata": {},
   "source": [
    "# Supply and demand for Day time"
   ]
  },
  {
   "cell_type": "code",
   "execution_count": 353,
   "metadata": {},
   "outputs": [
    {
     "name": "stdout",
     "output_type": "stream",
     "text": [
      "Number of trips during Pre Day time           1224\n",
      "Number of trips completed during Day time     722\n",
      "demand percentage for Day time                41 %\n"
     ]
    }
   ],
   "source": [
    "Demand_day_time= uber_data.loc[(uber_data[\"Time slot\"]==\"Day time\")].shape[0]\n",
    "Supply_day_time= uber_data.loc[(uber_data[\"Time slot\"]==\"Day time\")&(uber_data[\"Status\"]==\"Trip Completed\")].shape[0]\n",
    " \n",
    "print(\"Number of trips during Pre Day time          \",Demand_day_time)\n",
    "print(\"Number of trips completed during Day time    \",Supply_day_time)\n",
    "\n",
    "#to calcuate day time demand percentage \n",
    "\n",
    "percent_Demand_day_time= 100-(round((Supply_day_time/Demand_day_time)*100))\n",
    "\n",
    "print(\"demand percentage for Day time               \", percent_Demand_day_time,\"%\")"
   ]
  },
  {
   "cell_type": "markdown",
   "metadata": {},
   "source": [
    "# Supply and demand for Day time by location"
   ]
  },
  {
   "cell_type": "code",
   "execution_count": 354,
   "metadata": {},
   "outputs": [
    {
     "name": "stdout",
     "output_type": "stream",
     "text": [
      "Number of Airport trip in Day time           478\n",
      "Number of Airport trip completed in Day time 327\n",
      "Number of City trip in Day time              746\n",
      "Number of City trip completed in Day time    395\n"
     ]
    }
   ],
   "source": [
    "day_time= uber_data.loc[uber_data[\"Time slot\"]==\"Day time\"]\n",
    "#Airport supply and demand for day time\n",
    "\n",
    "Airport_Demand_day_time = day_time.loc[(day_time[\"Pickup point\"]==\"Airport\")].shape[0]\n",
    "Airport_Supply_day_time  = day_time.loc[(day_time[\"Pickup point\"]==\"Airport\") &\n",
    "                                           (day_time[\"Status\"]==\"Trip Completed\")].shape[0]\n",
    "\n",
    "\n",
    "#Airport supply and demand for day time\n",
    "\n",
    "City_Demand_day_time = day_time.loc[(day_time[\"Pickup point\"]==\"City\")].shape[0]\n",
    "City_Supply_day_time = day_time.loc[(day_time[\"Pickup point\"]==\"City\")&\n",
    "                                         (day_time[\"Status\"]==\"Trip Completed\")].shape[0]\n",
    "\n",
    "\n",
    "print(\"Number of Airport trip in Day time          \", Airport_Demand_day_time)\n",
    "print(\"Number of Airport trip completed in Day time\", Airport_Supply_day_time)\n",
    "\n",
    "print(\"Number of City trip in Day time             \", City_Demand_day_time)\n",
    "print(\"Number of City trip completed in Day time   \", City_Supply_day_time)\n",
    "\n"
   ]
  },
  {
   "cell_type": "code",
   "execution_count": 355,
   "metadata": {},
   "outputs": [
    {
     "name": "stdout",
     "output_type": "stream",
     "text": [
      "Percentage Demand for airport                          32 %\n",
      "Percentage Demand for city                             47 %\n"
     ]
    }
   ],
   "source": [
    "# to calculate percentage demand for Airport in day time\n",
    "\n",
    "percent_airport_Demand_day_time= 100-(round((Airport_Supply_day_time/Airport_Demand_day_time)*100))\n",
    "\n",
    "#to calculate percentge demand for city in day time\n",
    "\n",
    "percent_city_Demand_day_time= 100-(round((City_Supply_day_time/City_Demand_day_time)*100))\n",
    "\n",
    "print(\"Percentage Demand for airport                         \",percent_airport_Demand_day_time,\"%\")\n",
    "print(\"Percentage Demand for city                            \",percent_city_Demand_day_time,\"%\")\n",
    "\n",
    "\n"
   ]
  },
  {
   "cell_type": "markdown",
   "metadata": {},
   "source": [
    "# Supply and demand for Pre morning"
   ]
  },
  {
   "cell_type": "code",
   "execution_count": 356,
   "metadata": {},
   "outputs": [
    {
     "name": "stdout",
     "output_type": "stream",
     "text": [
      "Number of trips during Pre morining hours           578\n",
      "Number of trips completed during pre morning hours  214\n",
      "demand percentage for Pre morning                   63 %\n"
     ]
    }
   ],
   "source": [
    "Demand_pre_mrng= uber_data.loc[(uber_data[\"Time slot\"]==\"Pre_morning\")].shape[0]\n",
    "Supply_pre_mrng= uber_data.loc[(uber_data[\"Time slot\"]==\"Pre_morning\")&(uber_data[\"Status\"]==\"Trip Completed\")].shape[0]\n",
    " \n",
    "print(\"Number of trips during Pre morining hours          \",Demand_pre_mrng)\n",
    "print(\"Number of trips completed during pre morning hours \",Supply_pre_mrng)\n",
    "\n",
    "#to calcuate day time demand percentage \n",
    "\n",
    "percent_Demand_pre_mrng= 100-(round((Supply_pre_mrng/Demand_pre_mrng)*100))\n",
    "\n",
    "print(\"demand percentage for Pre morning                  \", percent_Demand_pre_mrng,\"%\")\n"
   ]
  },
  {
   "cell_type": "markdown",
   "metadata": {},
   "source": [
    "# Supply and demand for Pre morning by location"
   ]
  },
  {
   "cell_type": "code",
   "execution_count": 357,
   "metadata": {},
   "outputs": [
    {
     "name": "stdout",
     "output_type": "stream",
     "text": [
      "Number of Airport trip in Pre morning           253\n",
      "Number of Airport trip completed in Pre morning 103\n",
      "Number of City trip in Pre morning              746\n",
      "Number of City trip completed in Pre morning    395\n"
     ]
    }
   ],
   "source": [
    "pre_mrng= uber_data.loc[uber_data[\"Time slot\"]==\"Pre_morning\"]\n",
    "\n",
    "#Airport supply and demand for morning rush\n",
    "\n",
    "Airport_Demand_pre_mrng = pre_mrng.loc[(pre_mrng[\"Pickup point\"]==\"Airport\")].shape[0]\n",
    "Airport_Supply_pre_mrng  = pre_mrng.loc[(pre_mrng[\"Pickup point\"]==\"Airport\") &\n",
    "                                           (pre_mrng[\"Status\"]==\"Trip Completed\")].shape[0]\n",
    "\n",
    "\n",
    "#Airport supply and demand for pre morning\n",
    "\n",
    "City_Demand_pre_mrng = day_time.loc[(day_time[\"Pickup point\"]==\"City\")].shape[0]\n",
    "City_Supply_pre_mrng = day_time.loc[(day_time[\"Pickup point\"]==\"City\")&\n",
    "                                         (day_time[\"Status\"]==\"Trip Completed\")].shape[0]\n",
    "\n",
    "\n",
    "print(\"Number of Airport trip in Pre morning          \", Airport_Demand_pre_mrng)\n",
    "print(\"Number of Airport trip completed in Pre morning\", Airport_Supply_pre_mrng)\n",
    "\n",
    "print(\"Number of City trip in Pre morning             \", City_Demand_pre_mrng)\n",
    "print(\"Number of City trip completed in Pre morning   \", City_Supply_pre_mrng)\n",
    "\n"
   ]
  },
  {
   "cell_type": "code",
   "execution_count": 358,
   "metadata": {},
   "outputs": [
    {
     "name": "stdout",
     "output_type": "stream",
     "text": [
      "Percentage Demand for airport                          59 %\n",
      "Percentage Demand for city                             47 %\n"
     ]
    }
   ],
   "source": [
    "# to calculate percentage demand for Airport in pre_morning\n",
    "\n",
    "percent_airport_Demand_pre_mrng= 100-(round((Airpot_Supply_pre_mrng/Airport_Demand_pre_mrng)*100))\n",
    "\n",
    "#to calculate percentge demand for city in Pre morning\n",
    "\n",
    "percent_city_Demand_pre_mrng= 100-(round((City_Supply_pre_mrng/City_Demand_pre_mrng)*100))\n",
    "\n",
    "print(\"Percentage Demand for airport                         \",percent_airport_Demand_pre_mrng,\"%\")\n",
    "print(\"Percentage Demand for city                            \",percent_city_Demand_pre_mrng,\"%\")\n"
   ]
  },
  {
   "cell_type": "markdown",
   "metadata": {},
   "source": [
    "# Supply and demand for Late night"
   ]
  },
  {
   "cell_type": "code",
   "execution_count": 359,
   "metadata": {},
   "outputs": [
    {
     "name": "stdout",
     "output_type": "stream",
     "text": [
      "Number of trips in day time            498\n",
      "Number of trips completed in day time  257\n",
      "demand percentage for late night        48 %\n"
     ]
    }
   ],
   "source": [
    "Demand_late_night= uber_data.loc[(uber_data[\"Time slot\"]==\"Late night\")].shape[0]\n",
    "Supply_late_night= uber_data.loc[(uber_data[\"Time slot\"]==\"Late night\")&(uber_data[\"Status\"]==\"Trip Completed\")].shape[0]\n",
    " \n",
    "print(\"Number of trips in day time           \",Demand_late_night)\n",
    "print(\"Number of trips completed in day time \",Supply_late_night)\n",
    "\n",
    "#to calcuate Late night demand percentage \n",
    "\n",
    "percent_Demand_late_night= 100-(round((Supply_late_night/Demand_late_night)*100))\n",
    "\n",
    "print(\"demand percentage for late night       \", percent_Demand_late_night,\"%\")\n"
   ]
  },
  {
   "cell_type": "markdown",
   "metadata": {},
   "source": [
    "# Supply and demand for Late night by location"
   ]
  },
  {
   "cell_type": "code",
   "execution_count": 349,
   "metadata": {},
   "outputs": [
    {
     "name": "stdout",
     "output_type": "stream",
     "text": [
      "Number of Airport trip in Late night           281\n",
      "Number of Airport trip completed in Late night 142\n",
      "Number of City trip in Late night              217\n",
      "Number of City trip completed in Late night    115\n"
     ]
    }
   ],
   "source": [
    "late_night= uber_data.loc[uber_data[\"Time slot\"]==\"Late night\"]\n",
    "\n",
    "#Airport supply and demand for Late night\n",
    "\n",
    "Airport_Demand_late_night = late_night.loc[(late_night[\"Pickup point\"]==\"Airport\")].shape[0]\n",
    "Airport_Supply_late_night  = late_night.loc[(late_night[\"Pickup point\"]==\"Airport\") &\n",
    "                                           (late_night[\"Status\"]==\"Trip Completed\")].shape[0]\n",
    "\n",
    "\n",
    "\n",
    "#Airport supply and demand for late night\n",
    "\n",
    "City_Demand_late_night = late_night.loc[(late_night[\"Pickup point\"]==\"City\")].shape[0]\n",
    "City_Supply_late_night = late_night.loc[(late_night[\"Pickup point\"]==\"City\")&\n",
    "                                         (late_night[\"Status\"]==\"Trip Completed\")].shape[0]\n",
    "\n",
    "\n",
    "\n",
    "print(\"Number of Airport trip in Late night          \", Airport_Demand_late_night)\n",
    "print(\"Number of Airport trip completed in Late night\", Airport_Supply_late_night)\n",
    "\n",
    "print(\"Number of City trip in Late night             \", City_Demand_late_night)\n",
    "print(\"Number of City trip completed in Late night   \", City_Supply_late_night)\n",
    "\n"
   ]
  },
  {
   "cell_type": "code",
   "execution_count": null,
   "metadata": {},
   "outputs": [],
   "source": []
  },
  {
   "cell_type": "code",
   "execution_count": 360,
   "metadata": {},
   "outputs": [
    {
     "name": "stdout",
     "output_type": "stream",
     "text": [
      "Percentage Demand for airport                          49 %\n",
      "Percentage Demand for city                             47 %\n"
     ]
    }
   ],
   "source": [
    "# to calculate percentage demand for Airport in late night\n",
    "\n",
    "percent_airport_Demand_late_night= 100-(round((Airport_Supply_late_night/Airport_Demand_late_night)*100))\n",
    "\n",
    "#to calculate percentge demand for city in late night\n",
    "\n",
    "percent_city_Demand_late_night= 100-(round((City_Supply_late_night/City_Demand_late_night)*100))\n",
    "\n",
    "print(\"Percentage Demand for airport                         \",percent_airport_Demand_late_night,\"%\")\n",
    "print(\"Percentage Demand for city                            \",percent_city_Demand_late_night,\"%\")"
   ]
  },
  {
   "cell_type": "code",
   "execution_count": 85,
   "metadata": {},
   "outputs": [
    {
     "data": {
      "text/plain": [
       "<matplotlib.axes._subplots.AxesSubplot at 0xefc7148>"
      ]
     },
     "execution_count": 85,
     "metadata": {},
     "output_type": "execute_result"
    },
    {
     "data": {
      "image/png": "[encoded data removed]",
      "text/plain": [
       "<Figure size 432x288 with 1 Axes>"
      ]
     },
     "metadata": {},
     "output_type": "display_data"
    }
   ],
   "source": [
    "#supply for time slots \n",
    "\n",
    "trip_completed= uber_data.loc[uber_data['Status']==\"Trip Completed\"]\n",
    "sns.countplot(x=\"Time slot\",data=trip_completed,hue=\"Pickup point\")"
   ]
  },
  {
   "cell_type": "code",
   "execution_count": 86,
   "metadata": {},
   "outputs": [
    {
     "data": {
      "text/plain": [
       "<matplotlib.axes._subplots.AxesSubplot at 0xe89fee0>"
      ]
     },
     "execution_count": 86,
     "metadata": {},
     "output_type": "execute_result"
    },
    {
     "data": {
      "image/png": "[encoded data removed]",
      "text/plain": [
       "<Figure size 432x288 with 1 Axes>"
      ]
     },
     "metadata": {},
     "output_type": "display_data"
    }
   ],
   "source": [
    "#demand for each time slot\n",
    "sns.countplot(x=\"Time slot\",data=uber_data,hue=\"Pickup point\")"
   ]
  },
  {
   "cell_type": "code",
   "execution_count": 362,
   "metadata": {},
   "outputs": [
    {
     "data": {
      "text/html": [
       "<div>\n",
       "<style scoped>\n",
       "    .dataframe tbody tr th:only-of-type {\n",
       "        vertical-align: middle;\n",
       "    }\n",
       "\n",
       "    .dataframe tbody tr th {\n",
       "        vertical-align: top;\n",
       "    }\n",
       "\n",
       "    .dataframe thead th {\n",
       "        text-align: right;\n",
       "    }\n",
       "</style>\n",
       "<table border=\"1\" class=\"dataframe\">\n",
       "  <thead>\n",
       "    <tr style=\"text-align: right;\">\n",
       "      <th></th>\n",
       "      <th>Percentage Demand</th>\n",
       "    </tr>\n",
       "  </thead>\n",
       "  <tbody>\n",
       "    <tr>\n",
       "      <th>Pre_morning</th>\n",
       "      <td>63</td>\n",
       "    </tr>\n",
       "    <tr>\n",
       "      <th>Morning rush</th>\n",
       "      <td>59</td>\n",
       "    </tr>\n",
       "    <tr>\n",
       "      <th>Day time</th>\n",
       "      <td>41</td>\n",
       "    </tr>\n",
       "    <tr>\n",
       "      <th>Evening rush</th>\n",
       "      <td>67</td>\n",
       "    </tr>\n",
       "    <tr>\n",
       "      <th>Late night</th>\n",
       "      <td>48</td>\n",
       "    </tr>\n",
       "  </tbody>\n",
       "</table>\n",
       "</div>"
      ],
      "text/plain": [
       "              Percentage Demand\n",
       "Pre_morning                  63\n",
       "Morning rush                 59\n",
       "Day time                     41\n",
       "Evening rush                 67\n",
       "Late night                   48"
      ]
     },
     "execution_count": 362,
     "metadata": {},
     "output_type": "execute_result"
    }
   ],
   "source": [
    "#percentage demand for each time slot\n",
    "\n",
    "percentage = pd.DataFrame({'Percentage Demand': [percent_Demand_pre_mrng, percent_Demand_mrng_rush ,percent_Demand_day_time, \n",
    "                                                 percent_Demand_eve_rush,percent_Demand_late_night]},\n",
    "                           index=[\"Pre_morning\",\"Morning rush\",\"Day time\",\"Evening rush\",\"Late night\"])\n",
    "percentage"
   ]
  },
  {
   "cell_type": "code",
   "execution_count": 363,
   "metadata": {},
   "outputs": [
    {
     "data": {
      "text/plain": [
       "<matplotlib.axes._subplots.AxesSubplot at 0x16f38e20>"
      ]
     },
     "execution_count": 363,
     "metadata": {},
     "output_type": "execute_result"
    },
    {
     "data": {
      "image/png": "[encoded data removed]",
      "text/plain": [
       "<Figure size 360x360 with 1 Axes>"
      ]
     },
     "metadata": {},
     "output_type": "display_data"
    }
   ],
   "source": [
    "##percentage demand for each time slot-pie chart\n",
    "\n",
    "colors = ( \"orange\", \"cyan\", \"brown\", \n",
    "          \"grey\", \"indigo\", \"beige\") \n",
    "percentage.plot.pie(y='Percentage Demand',colors = colors,figsize=(5, 5))"
   ]
  },
  {
   "cell_type": "code",
   "execution_count": 365,
   "metadata": {},
   "outputs": [
    {
     "data": {
      "text/html": [
       "<div>\n",
       "<style scoped>\n",
       "    .dataframe tbody tr th:only-of-type {\n",
       "        vertical-align: middle;\n",
       "    }\n",
       "\n",
       "    .dataframe tbody tr th {\n",
       "        vertical-align: top;\n",
       "    }\n",
       "\n",
       "    .dataframe thead th {\n",
       "        text-align: right;\n",
       "    }\n",
       "</style>\n",
       "<table border=\"1\" class=\"dataframe\">\n",
       "  <thead>\n",
       "    <tr style=\"text-align: right;\">\n",
       "      <th></th>\n",
       "      <th>time_slot</th>\n",
       "      <th>Airport percent</th>\n",
       "      <th>City percent</th>\n",
       "    </tr>\n",
       "  </thead>\n",
       "  <tbody>\n",
       "    <tr>\n",
       "      <th>0</th>\n",
       "      <td>Pre_morning</td>\n",
       "      <td>59.29</td>\n",
       "      <td>47.05</td>\n",
       "    </tr>\n",
       "    <tr>\n",
       "      <th>1</th>\n",
       "      <td>Morning rush</td>\n",
       "      <td>10.33</td>\n",
       "      <td>71.85</td>\n",
       "    </tr>\n",
       "    <tr>\n",
       "      <th>2</th>\n",
       "      <td>Day time</td>\n",
       "      <td>31.59</td>\n",
       "      <td>47.05</td>\n",
       "    </tr>\n",
       "    <tr>\n",
       "      <th>3</th>\n",
       "      <td>Evening rush</td>\n",
       "      <td>79.28</td>\n",
       "      <td>24.17</td>\n",
       "    </tr>\n",
       "    <tr>\n",
       "      <th>4</th>\n",
       "      <td>Late night</td>\n",
       "      <td>49.47</td>\n",
       "      <td>47.00</td>\n",
       "    </tr>\n",
       "  </tbody>\n",
       "</table>\n",
       "</div>"
      ],
      "text/plain": [
       "      time_slot  Airport percent  City percent\n",
       "0   Pre_morning            59.29         47.05\n",
       "1  Morning rush            10.33         71.85\n",
       "2      Day time            31.59         47.05\n",
       "3  Evening rush            79.28         24.17\n",
       "4    Late night            49.47         47.00"
      ]
     },
     "execution_count": 365,
     "metadata": {},
     "output_type": "execute_result"
    }
   ],
   "source": [
    "# percentage demand for Airport and City in pre_morning\n",
    "\n",
    "frac_airport_Demand_pre_mrng= 100-(round((Airpot_Supply_pre_mrng/Airport_Demand_pre_mrng)*100,2))\n",
    "frac_city_Demand_pre_mrng=100-( round((City_Supply_pre_mrng/City_Demand_pre_mrng)*100,2))\n",
    "\n",
    "\n",
    "# to calculate percentage demand for Airport and city in morning rush\n",
    "\n",
    "frac_airport_Demand_mrng_rush= 100-(round((Airport_Supply_mrng_rush/Airport_Demand_mrng_rush)*100,2))\n",
    "frac_city_Demand_mrng_rush= 100-(round((City_Supply_mrng_rush/City_Demand_mrng_rush)*100,2))\n",
    "\n",
    "# to calculate percentage demand for Airport and City in day time\n",
    "\n",
    "frac_airport_Demand_day_time=100-(round((Airport_Supply_day_time/Airport_Demand_day_time)*100,2))\n",
    "frac_city_Demand_day_time= 100-(round((City_Supply_day_time/City_Demand_day_time)*100,2))\n",
    "\n",
    "# to calculate percentage demand for Airport and city in Evening rush\n",
    "\n",
    "frac_airport_Demand_eve_rush=100-(round(( Airport_Supply_eve_rush/Airport_Demand_eve_rush)*100,2))\n",
    "frac_city_Demand_eve_rush= 100-(round((City_Supply_eve_rush/City_Demand_eve_rush)*100,2))\n",
    "\n",
    "# to calculate percentage demand for Airport and city in late night\n",
    "\n",
    "frac_airport_Demand_late_night=100-(round(( Airport_Supply_late_night/Airport_Demand_late_night)*100,2))\n",
    "frac_city_Demand_late_night= 100-(round((City_Supply_late_night/City_Demand_late_night)*100,2))\n",
    "\n",
    "\n",
    "demand_per= pd.DataFrame({\"time_slot\":[\"Pre_morning\",\"Morning rush\",\"Day time\",\"Evening rush\",\"Late night\"],\n",
    "                       'Airport percent': [frac_airport_Demand_pre_mrng,frac_airport_Demand_mrng_rush,\n",
    "                                       frac_airport_Demand_day_time,frac_airport_Demand_eve_rush,\n",
    "                                       frac_airport_Demand_late_night],\n",
    "                       'City percent': [frac_city_Demand_pre_mrng,frac_city_Demand_mrng_rush,\n",
    "                                       frac_city_Demand_day_time,frac_city_Demand_eve_rush,\n",
    "                                        frac_city_Demand_late_night]})\n",
    "                       \n",
    "\n",
    "demand_per"
   ]
  },
  {
   "cell_type": "code",
   "execution_count": 366,
   "metadata": {},
   "outputs": [
    {
     "data": {
      "text/plain": [
       "<seaborn.axisgrid.FacetGrid at 0x16f50cb8>"
      ]
     },
     "execution_count": 366,
     "metadata": {},
     "output_type": "execute_result"
    },
    {
     "data": {
      "image/png": "[encoded data removed]",
      "text/plain": [
       "<Figure size 360x360 with 1 Axes>"
      ]
     },
     "metadata": {},
     "output_type": "display_data"
    }
   ],
   "source": [
    "#demand from Airport to city during various time slot\n",
    "\n",
    "sns.catplot(x=\"time_slot\",y=\"Airport percent\",data=demand_per,kind=\"point\")"
   ]
  },
  {
   "cell_type": "code",
   "execution_count": 367,
   "metadata": {},
   "outputs": [
    {
     "data": {
      "text/plain": [
       "<seaborn.axisgrid.FacetGrid at 0x16fddce8>"
      ]
     },
     "execution_count": 367,
     "metadata": {},
     "output_type": "execute_result"
    },
    {
     "data": {
      "image/png": "[encoded data removed]",
      "text/plain": [
       "<Figure size 360x360 with 1 Axes>"
      ]
     },
     "metadata": {},
     "output_type": "display_data"
    }
   ],
   "source": [
    "#demand from city to airport during various time slot\n",
    "\n",
    "sns.catplot(x=\"time_slot\",y=\"City percent\",data=demand_per,kind=\"point\")"
   ]
  },
  {
   "cell_type": "code",
   "execution_count": 378,
   "metadata": {},
   "outputs": [
    {
     "data": {
      "text/plain": [
       "<matplotlib.axes._subplots.AxesSubplot at 0x1817e6a0>"
      ]
     },
     "execution_count": 378,
     "metadata": {},
     "output_type": "execute_result"
    },
    {
     "data": {
      "image/png": "[encoded data removed]",
      "text/plain": [
       "<Figure size 360x360 with 1 Axes>"
      ]
     },
     "metadata": {},
     "output_type": "display_data"
    }
   ],
   "source": [
    "#demand from Airport to city during various time slot - pie chart \n",
    "\n",
    "demand_per.plot.pie(y='Airport percent',labels=demand_per[\"time_slot\"],colors = colors,figsize=(5, 5),startangle=90)"
   ]
  },
  {
   "cell_type": "code",
   "execution_count": 379,
   "metadata": {},
   "outputs": [
    {
     "data": {
      "image/png": "[encoded data removed]",
      "text/plain": [
       "<Figure size 360x360 with 1 Axes>"
      ]
     },
     "metadata": {},
     "output_type": "display_data"
    }
   ],
   "source": [
    "#demand from city to airport during various time slot - pie chart\n",
    "\n",
    "plot = demand_per.plot.pie(y='City percent',labels=demand_per[\"time_slot\"],colors = colors,figsize=(5, 5),startangle=90)"
   ]
  },
  {
   "cell_type": "markdown",
   "metadata": {},
   "source": [
    "# Supply and Demand for location for each time slot\n",
    " "
   ]
  },
  {
   "cell_type": "markdown",
   "metadata": {},
   "source": [
    "1)From overall analysis, the demand for airport to city trip is highest at eveing rush hours from 5 PM to 10 PM and demand is high for city to airport trip during Morning rush hours and vice versa.\n",
    "\n",
    "2)The damand for airport to city trip is high until 5 AM. city to airport demand is also as high as airport to city until 5 AM\n",
    "\n",
    "3)The car unavailability issue during evening rush hours increses the demand, particularly from airport to city rout\n",
    "\n",
    "4)The request for cancellation is high during morning hours from 5 AM to 10 AM"
   ]
  },
  {
   "cell_type": "markdown",
   "metadata": {},
   "source": [
    "# Recomandations "
   ]
  },
  {
   "cell_type": "markdown",
   "metadata": {},
   "source": [
    "1)Since there is great demand during morning and evening rush hours, it is recommend to increase the drivers by providing extra allowance or higher percentage of commission during evening and morning peak hours.\n",
    "\n",
    "2)In order to avoid trip cancellation by the customers, the drivers has to be on time at the pickup point. So by awarding Extra bonus amount for drivers achiving more target and being at pickup point on time cancellation can be reduced.\n",
    "\n",
    "\n",
    "\n"
   ]
  }
 ],
 "metadata": {
  "kernelspec": {
   "display_name": "Python 3",
   "language": "python",
   "name": "python3"
  },
  "language_info": {
   "codemirror_mode": {
    "name": "ipython",
    "version": 3
   },
   "file_extension": ".py",
   "mimetype": "text/x-python",
   "name": "python",
   "nbconvert_exporter": "python",
   "pygments_lexer": "ipython3",
   "version": "3.8.3"
  }
 },
 "nbformat": 4,
 "nbformat_minor": 4
}
